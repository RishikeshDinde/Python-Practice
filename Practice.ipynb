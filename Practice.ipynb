{
 "cells": [
  {
   "cell_type": "code",
   "execution_count": 1,
   "id": "356d4835",
   "metadata": {},
   "outputs": [
    {
     "name": "stdout",
     "output_type": "stream",
     "text": [
      "Hello Word\n"
     ]
    }
   ],
   "source": [
    "print(\"Hello Word\")"
   ]
  },
  {
   "cell_type": "code",
   "execution_count": 4,
   "id": "4d5368aa",
   "metadata": {},
   "outputs": [],
   "source": [
    "a=[\"R\",\"I\",\"S\",\"H\",\"I\"]"
   ]
  },
  {
   "cell_type": "code",
   "execution_count": 6,
   "id": "25a7ee56",
   "metadata": {},
   "outputs": [
    {
     "data": {
      "text/plain": [
       "'RISHI'"
      ]
     },
     "execution_count": 6,
     "metadata": {},
     "output_type": "execute_result"
    }
   ],
   "source": [
    "b=\"\"\n",
    "for i in a:\n",
    "    b=b+i\n",
    "b"
   ]
  },
  {
   "cell_type": "code",
   "execution_count": 7,
   "id": "5b3b23c1",
   "metadata": {},
   "outputs": [
    {
     "data": {
      "text/plain": [
       "True"
      ]
     },
     "execution_count": 7,
     "metadata": {},
     "output_type": "execute_result"
    }
   ],
   "source": [
    "\"I\" in a"
   ]
  },
  {
   "cell_type": "code",
   "execution_count": 11,
   "id": "55bd0585",
   "metadata": {
    "scrolled": true
   },
   "outputs": [
    {
     "data": {
      "text/plain": [
       "['r', 'i', 'I', 'S', 'H', 'I']"
      ]
     },
     "execution_count": 11,
     "metadata": {},
     "output_type": "execute_result"
    }
   ],
   "source": [
    "a[0]=\"r\"\n",
    "a.insert(1,\"i\")\n",
    "a"
   ]
  },
  {
   "cell_type": "code",
   "execution_count": 14,
   "id": "ec533e32",
   "metadata": {},
   "outputs": [
    {
     "data": {
      "text/plain": [
       "(['K', 'l', 'y', 'a', 'n', 'i', 'r', 'i', 'I', 'S', 'H', 'I'],\n",
       " ['r', 'i', 'I', 'S', 'H', 'I', 1, 2, 3, 4])"
      ]
     },
     "execution_count": 14,
     "metadata": {},
     "output_type": "execute_result"
    }
   ],
   "source": [
    "b=[\"K\",\"l\",\"y\",\"a\",\"n\",\"i\"]\n",
    "c=(1,2,3,4)\n",
    "b.extend(a)\n",
    "d=a.copy()\n",
    "d.extend(c)\n",
    "b, d"
   ]
  },
  {
   "cell_type": "code",
   "execution_count": 18,
   "id": "203d6b6c",
   "metadata": {},
   "outputs": [
    {
     "data": {
      "text/plain": [
       "['r', 'I', 'S', 'H', 'I', 2, 3, 4]"
      ]
     },
     "execution_count": 18,
     "metadata": {},
     "output_type": "execute_result"
    }
   ],
   "source": [
    "# d.remove(1)\n",
    "d.pop(1)\n",
    "d"
   ]
  },
  {
   "cell_type": "code",
   "execution_count": 23,
   "id": "863d077a",
   "metadata": {},
   "outputs": [
    {
     "data": {
      "text/plain": [
       "([1, 4, 3, 8], [6])"
      ]
     },
     "execution_count": 23,
     "metadata": {},
     "output_type": "execute_result"
    }
   ],
   "source": [
    "d=[x*2 for x in c if x%3==0]\n",
    "e=[x*2 if x%2==0 else x for x in c]\n",
    "\n",
    "e, d"
   ]
  },
  {
   "cell_type": "code",
   "execution_count": 25,
   "id": "670038a7",
   "metadata": {},
   "outputs": [
    {
     "data": {
      "text/plain": [
       "[1, 3, 3, 4, 5, 7, 8]"
      ]
     },
     "execution_count": 25,
     "metadata": {},
     "output_type": "execute_result"
    }
   ],
   "source": [
    "c=[3,5,1,3,7,8,4]\n",
    "c.sort()\n",
    "c"
   ]
  },
  {
   "cell_type": "code",
   "execution_count": 31,
   "id": "a7bda15f",
   "metadata": {
    "scrolled": true
   },
   "outputs": [
    {
     "name": "stdout",
     "output_type": "stream",
     "text": [
      "Dinde\n",
      "Mane\n",
      "Dinde\n"
     ]
    }
   ],
   "source": [
    "a={\"Rishi\":\"Dinde\", \"Shubham\":\"Mane\", \"Kalyani\":\"Dinde\"}\n",
    "for i in a.values():\n",
    "    print(i)"
   ]
  },
  {
   "cell_type": "code",
   "execution_count": 34,
   "id": "3918ba2c",
   "metadata": {},
   "outputs": [],
   "source": [
    "def sum(a,b):\n",
    "    return a+b"
   ]
  },
  {
   "cell_type": "code",
   "execution_count": 35,
   "id": "3f4c6038",
   "metadata": {},
   "outputs": [
    {
     "data": {
      "text/plain": [
       "10"
      ]
     },
     "execution_count": 35,
     "metadata": {},
     "output_type": "execute_result"
    }
   ],
   "source": [
    "sum(1,9)"
   ]
  },
  {
   "cell_type": "code",
   "execution_count": 53,
   "id": "7de8a5b2",
   "metadata": {},
   "outputs": [],
   "source": [
    "class Person:\n",
    "    def __init__(self, name, age):\n",
    "        self.name=name\n",
    "        self.age=age\n",
    "    def greet(self):\n",
    "        print(\"Good morning MF \" + self.name)\n",
    "    def __str__(self):\n",
    "        return f\"{self.name}({self.age})\"\n",
    "    "
   ]
  },
  {
   "cell_type": "code",
   "execution_count": 54,
   "id": "fc0db502",
   "metadata": {},
   "outputs": [],
   "source": [
    "M=Person(\"Rishikesh\",24)"
   ]
  },
  {
   "cell_type": "code",
   "execution_count": 44,
   "id": "b73ba998",
   "metadata": {},
   "outputs": [
    {
     "name": "stdout",
     "output_type": "stream",
     "text": [
      "Good morning MF Rishikesh\n"
     ]
    }
   ],
   "source": [
    "M.greet()"
   ]
  },
  {
   "cell_type": "code",
   "execution_count": 55,
   "id": "817cae3d",
   "metadata": {},
   "outputs": [
    {
     "name": "stdout",
     "output_type": "stream",
     "text": [
      "Rishikesh(24)\n"
     ]
    }
   ],
   "source": [
    "print(M)"
   ]
  },
  {
   "cell_type": "code",
   "execution_count": 117,
   "id": "46ec9ae8",
   "metadata": {},
   "outputs": [
    {
     "data": {
      "text/plain": [
       "7"
      ]
     },
     "execution_count": 117,
     "metadata": {},
     "output_type": "execute_result"
    }
   ],
   "source": [
    "import random\n",
    "x=random.randrange(3,13,2)\n",
    "x"
   ]
  }
 ],
 "metadata": {
  "kernelspec": {
   "display_name": "Python 3 (ipykernel)",
   "language": "python",
   "name": "python3"
  },
  "language_info": {
   "codemirror_mode": {
    "name": "ipython",
    "version": 3
   },
   "file_extension": ".py",
   "mimetype": "text/x-python",
   "name": "python",
   "nbconvert_exporter": "python",
   "pygments_lexer": "ipython3",
   "version": "3.11.5"
  }
 },
 "nbformat": 4,
 "nbformat_minor": 5
}
