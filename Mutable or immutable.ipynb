{
 "cells": [
  {
   "cell_type": "code",
   "execution_count": 2,
   "id": "e7ddb597",
   "metadata": {},
   "outputs": [
    {
     "name": "stdout",
     "output_type": "stream",
     "text": [
      "[1, 2, 3, 4, 6]\n",
      "[1, 2, 3, 4, 5]\n"
     ]
    }
   ],
   "source": [
    "a=[1,2,3,4,6]\n",
    "b=a\n",
    "print(b)\n",
    "a[4]=5\n",
    "print(b)"
   ]
  },
  {
   "cell_type": "code",
   "execution_count": 15,
   "id": "7d3aad45",
   "metadata": {
    "scrolled": true
   },
   "outputs": [
    {
     "name": "stdout",
     "output_type": "stream",
     "text": [
      "Rishi\n",
      "Rishi\n"
     ]
    }
   ],
   "source": [
    "a=\"Rishi\"\n",
    "b=a\n",
    "print(b)\n",
    "a.replace(\"i\",\"h\")\n",
    "print(b)"
   ]
  },
  {
   "cell_type": "code",
   "execution_count": 13,
   "id": "95cef9d2",
   "metadata": {
    "scrolled": false
   },
   "outputs": [
    {
     "data": {
      "text/plain": [
       "'Rishi'"
      ]
     },
     "execution_count": 13,
     "metadata": {},
     "output_type": "execute_result"
    }
   ],
   "source": [
    "a.replace(\"i\",\"h\")\n",
    "b"
   ]
  },
  {
   "cell_type": "markdown",
   "id": "5a5303ab",
   "metadata": {},
   "source": [
    "# Lambda functions"
   ]
  },
  {
   "cell_type": "code",
   "execution_count": 16,
   "id": "a4ed5b22",
   "metadata": {},
   "outputs": [
    {
     "name": "stdout",
     "output_type": "stream",
     "text": [
      "5\n"
     ]
    }
   ],
   "source": [
    "a=lambda x,y,z: x*y+z\n",
    "print(a(1,2,3))"
   ]
  },
  {
   "cell_type": "code",
   "execution_count": 21,
   "id": "a08d6fa7",
   "metadata": {},
   "outputs": [],
   "source": [
    "def TwoMulti(i):\n",
    "    a=lambda x: x*i\n",
    "    "
   ]
  },
  {
   "cell_type": "code",
   "execution_count": 26,
   "id": "c75e6b98",
   "metadata": {},
   "outputs": [
    {
     "data": {
      "text/plain": [
       "8"
      ]
     },
     "execution_count": 26,
     "metadata": {},
     "output_type": "execute_result"
    }
   ],
   "source": [
    "x=TwoMulti(10)\n",
    "a(2)"
   ]
  },
  {
   "cell_type": "markdown",
   "id": "071b490d",
   "metadata": {},
   "source": [
    "# Passing function as as argument"
   ]
  },
  {
   "cell_type": "code",
   "execution_count": 30,
   "id": "a1f39f19",
   "metadata": {},
   "outputs": [
    {
     "data": {
      "text/plain": [
       "18"
      ]
     },
     "execution_count": 30,
     "metadata": {},
     "output_type": "execute_result"
    }
   ],
   "source": [
    "def sum(a,*b):\n",
    "    sum=a\n",
    "    for i in b:\n",
    "        sum+=i\n",
    "    return sum\n",
    "sum(3,4,5,6)"
   ]
  },
  {
   "cell_type": "code",
   "execution_count": 40,
   "id": "4ec1271d",
   "metadata": {},
   "outputs": [
    {
     "data": {
      "text/plain": [
       "10"
      ]
     },
     "execution_count": 40,
     "metadata": {},
     "output_type": "execute_result"
    }
   ],
   "source": [
    "def print_sum(sum, x,y,z):\n",
    "    a=sum(x,y)+z\n",
    "    return a\n",
    "print_sum(sum,2,3,5)"
   ]
  }
 ],
 "metadata": {
  "kernelspec": {
   "display_name": "Python 3 (ipykernel)",
   "language": "python",
   "name": "python3"
  },
  "language_info": {
   "codemirror_mode": {
    "name": "ipython",
    "version": 3
   },
   "file_extension": ".py",
   "mimetype": "text/x-python",
   "name": "python",
   "nbconvert_exporter": "python",
   "pygments_lexer": "ipython3",
   "version": "3.11.5"
  }
 },
 "nbformat": 4,
 "nbformat_minor": 5
}
