{
 "cells": [
  {
   "cell_type": "code",
   "execution_count": 3,
   "id": "d5c64bab",
   "metadata": {},
   "outputs": [
    {
     "data": {
      "text/plain": [
       "{'Rishi': 'Dinde', 'Shrey': 'Mane', 'Kalyani': 'Dinde'}"
      ]
     },
     "execution_count": 3,
     "metadata": {},
     "output_type": "execute_result"
    }
   ],
   "source": [
    "a=dict((('Rishi','Dinde'),('Shrey','Mane'),('Kalyani','Dinde')))\n",
    "a"
   ]
  },
  {
   "cell_type": "code",
   "execution_count": 4,
   "id": "69354e0f",
   "metadata": {},
   "outputs": [
    {
     "data": {
      "text/plain": [
       "'Dinde'"
      ]
     },
     "execution_count": 4,
     "metadata": {},
     "output_type": "execute_result"
    }
   ],
   "source": [
    "a['Rishi']"
   ]
  },
  {
   "cell_type": "code",
   "execution_count": 6,
   "id": "d44914a1",
   "metadata": {},
   "outputs": [
    {
     "data": {
      "text/plain": [
       "{'Rishi': 'Patil', 'Shrey': 'Mane', 'Kalyani': 'Dinde'}"
      ]
     },
     "execution_count": 6,
     "metadata": {},
     "output_type": "execute_result"
    }
   ],
   "source": [
    "a['Rishi']='Patil'\n",
    "a"
   ]
  },
  {
   "cell_type": "code",
   "execution_count": 7,
   "id": "5d1a5065",
   "metadata": {},
   "outputs": [
    {
     "data": {
      "text/plain": [
       "'Patil'"
      ]
     },
     "execution_count": 7,
     "metadata": {},
     "output_type": "execute_result"
    }
   ],
   "source": [
    "a.get('Rishi')"
   ]
  },
  {
   "cell_type": "code",
   "execution_count": 13,
   "id": "199dcb7b",
   "metadata": {},
   "outputs": [],
   "source": [
    "a['Ram']\n"
   ]
  },
  {
   "cell_type": "code",
   "execution_count": 23,
   "id": "efb27a57",
   "metadata": {},
   "outputs": [
    {
     "data": {
      "text/plain": [
       "{'Rishi': 'Patil', 'Shrey': 'Mane', 'Kalyani': 'Dinde', 'Ram': 0, 'sk': 'iusx'}"
      ]
     },
     "execution_count": 23,
     "metadata": {},
     "output_type": "execute_result"
    }
   ],
   "source": [
    "a.update({'sk':'iusx'})\n",
    "a"
   ]
  },
  {
   "cell_type": "code",
   "execution_count": 29,
   "id": "76690996",
   "metadata": {},
   "outputs": [
    {
     "data": {
      "text/plain": [
       "{'Rishi': 'Patil', 'Shrey': 'Mane', 'Kalyani': 'Dinde', 'Ram': 0, 'sk': 'iusx'}"
      ]
     },
     "execution_count": 29,
     "metadata": {},
     "output_type": "execute_result"
    }
   ],
   "source": [
    "b={'Rishi': 'Patil', 'Shrey': 'Mane', 'Kalyani': 'Dinde', 'Ram': 0, 'sk': 'iusx'}\n",
    "b"
   ]
  },
  {
   "cell_type": "code",
   "execution_count": 17,
   "id": "8f23b629",
   "metadata": {},
   "outputs": [],
   "source": [
    "b.get('i')"
   ]
  },
  {
   "cell_type": "code",
   "execution_count": 24,
   "id": "f022032a",
   "metadata": {},
   "outputs": [
    {
     "name": "stdout",
     "output_type": "stream",
     "text": [
      "Rishi\n",
      "Shrey\n",
      "Kalyani\n",
      "Ram\n",
      "sk\n"
     ]
    }
   ],
   "source": [
    "for i in a:\n",
    "    print(i)"
   ]
  },
  {
   "cell_type": "code",
   "execution_count": 25,
   "id": "e4fdcff3",
   "metadata": {},
   "outputs": [
    {
     "name": "stdout",
     "output_type": "stream",
     "text": [
      "('Rishi', 'Patil')\n",
      "('Shrey', 'Mane')\n",
      "('Kalyani', 'Dinde')\n",
      "('Ram', 0)\n",
      "('sk', 'iusx')\n"
     ]
    }
   ],
   "source": [
    "for i in a.items():\n",
    "    print(i)"
   ]
  },
  {
   "cell_type": "code",
   "execution_count": 26,
   "id": "9afffb0d",
   "metadata": {},
   "outputs": [
    {
     "name": "stdout",
     "output_type": "stream",
     "text": [
      "Patil\n",
      "Mane\n",
      "Dinde\n",
      "0\n",
      "iusx\n"
     ]
    }
   ],
   "source": [
    "for i in a.values():\n",
    "    print(i)\n",
    "    "
   ]
  },
  {
   "cell_type": "code",
   "execution_count": 27,
   "id": "5d78646f",
   "metadata": {
    "scrolled": true
   },
   "outputs": [
    {
     "name": "stdout",
     "output_type": "stream",
     "text": [
      "Patil\n",
      "Mane\n",
      "Dinde\n",
      "0\n",
      "iusx\n"
     ]
    }
   ],
   "source": [
    "for i in a:\n",
    "    print(a[i])"
   ]
  },
  {
   "cell_type": "code",
   "execution_count": 30,
   "id": "549dc768",
   "metadata": {},
   "outputs": [
    {
     "data": {
      "text/plain": [
       "'Patil'"
      ]
     },
     "execution_count": 30,
     "metadata": {},
     "output_type": "execute_result"
    }
   ],
   "source": [
    "a.clear()\n",
    "del a\n",
    "a=b.copy()\n",
    "a.pop('Rishi')"
   ]
  }
 ],
 "metadata": {
  "kernelspec": {
   "display_name": "Python 3 (ipykernel)",
   "language": "python",
   "name": "python3"
  },
  "language_info": {
   "codemirror_mode": {
    "name": "ipython",
    "version": 3
   },
   "file_extension": ".py",
   "mimetype": "text/x-python",
   "name": "python",
   "nbconvert_exporter": "python",
   "pygments_lexer": "ipython3",
   "version": "3.11.5"
  }
 },
 "nbformat": 4,
 "nbformat_minor": 5
}
